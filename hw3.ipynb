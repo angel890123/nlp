{
 "cells": [
  {
   "cell_type": "code",
   "execution_count": 30,
   "source": [
    "from numpy.random import RandomState\r\n",
    "import pandas as pd\r\n",
    "import jieba\r\n",
    "import jieba.analyse\r\n",
    "import re\r\n",
    "from sklearn.neighbors import KNeighborsClassifier\r\n",
    "from sklearn.feature_extraction.text import TfidfTransformer  \r\n",
    "from sklearn.feature_extraction.text import CountVectorizer "
   ],
   "outputs": [],
   "metadata": {}
  },
  {
   "cell_type": "code",
   "execution_count": 31,
   "source": [
    "df = pd.read_csv('movies.csv')\r\n",
    "#str -> dict\r\n",
    "df['category'] = df['category'].apply(eval)    \r\n",
    "def list_category(x):\r\n",
    "    for first in x.values():\r\n",
    "        return(first) \r\n",
    "df['main_category'] = df['category'].apply(list_category)"
   ],
   "outputs": [],
   "metadata": {}
  },
  {
   "cell_type": "code",
   "execution_count": 32,
   "source": [
    "#split overview\r\n",
    "def split_info(df):\r\n",
    "    a = []\r\n",
    "    for info in df['info']:\r\n",
    "        keywords = jieba.analyse.extract_tags(info, topK=5)\r\n",
    "        a.append(keywords)\r\n",
    "\r\n",
    "    df['keyword'] = a\r\n",
    "    return df['keyword']"
   ],
   "outputs": [],
   "metadata": {}
  },
  {
   "cell_type": "code",
   "execution_count": 33,
   "source": [
    "df['keyword'] = split_info(df)"
   ],
   "outputs": [],
   "metadata": {}
  },
  {
   "cell_type": "code",
   "execution_count": 34,
   "source": [
    "df['keywords'] = ''\r\n",
    "def bag_words(x):\r\n",
    "    return (''.join(re.sub('[^\\u4e00-\\u9fa5]+', '', x['ch_name'])) + ' ' + ''.join(x['main_category']) + ' ' +  ' '.join(x['keyword']))\r\n",
    "df['keywords'] = df.apply(bag_words, axis = 1)"
   ],
   "outputs": [],
   "metadata": {}
  },
  {
   "cell_type": "code",
   "execution_count": 35,
   "source": [
    "#split Data to train and test\r\n",
    "rng = RandomState()\r\n",
    "train = df.sample(frac=0.9173, random_state=rng)\r\n",
    "test = df.loc[~df.index.isin(train.index)]\r\n",
    "#test['主類別'].to_csv('test_Data.csv')"
   ],
   "outputs": [],
   "metadata": {}
  },
  {
   "cell_type": "code",
   "execution_count": 36,
   "source": [
    "#轉詞頻矩陣\r\n",
    "tfvectorizer=CountVectorizer() \r\n",
    "count_train=tfvectorizer.fit_transform(train['keywords'])# Tf 矩阵\r\n",
    "count_test=tfvectorizer.transform(test['keywords']) \r\n",
    "transformer = TfidfTransformer() # 轉換Tf矩阵\r\n",
    "tfidf_train = transformer.fit_transform(count_train) # 將TF轉換成Tf-Idf\r\n",
    "tfidf_test = transformer.fit_transform(count_test)\r\n",
    "\r\n"
   ],
   "outputs": [],
   "metadata": {}
  },
  {
   "cell_type": "code",
   "execution_count": 37,
   "source": [
    "knn  = KNeighborsClassifier(n_neighbors=11,p=2,n_jobs=2)\r\n",
    "knn.fit(tfidf_train,train['main_category'])"
   ],
   "outputs": [
    {
     "output_type": "execute_result",
     "data": {
      "text/plain": [
       "KNeighborsClassifier(n_jobs=2, n_neighbors=11)"
      ]
     },
     "metadata": {},
     "execution_count": 37
    }
   ],
   "metadata": {}
  },
  {
   "cell_type": "code",
   "execution_count": 38,
   "source": [
    "#predict test_Data\r\n",
    "knn.predict(tfidf_test)"
   ],
   "outputs": [
    {
     "output_type": "execute_result",
     "data": {
      "text/plain": [
       "array(['動作', '動作', '動作', '劇情', '動作', '動作', '劇情', '動作', '動作', '動作', '動作',\n",
       "       '動作', '動作', '動作', '動作', '劇情', '動作', '動作', '動作', '動作', '動作', '動作',\n",
       "       '劇情', '劇情', '動作', '劇情', '動作', '動作', '動作', '動作', '動作', '動作', '劇情',\n",
       "       '動作', '劇情', '動作', '劇情', '劇情', '劇情', '動作', '劇情', '動作', '動作', '劇情',\n",
       "       '動作', '動作', '動作', '動作', '動作', '動作', '劇情', '動作', '動作', '劇情', '劇情',\n",
       "       '動作', '動作', '動作', '動作', '動作', '動作', '劇情', '動作', '科幻', '劇情', '劇情',\n",
       "       '劇情', '劇情', '動作', '動作', '動作', '愛情', '動作', '動作', '動作', '動作', '動作',\n",
       "       '動作', '動作', '動作', '動作', '恐怖', '動作', '動作', '動作', '動作', '動作', '動作',\n",
       "       '動作', '劇情', '動作', '動作', '劇情', '動作', '動作', '動作', '動作', '動作', '劇情',\n",
       "       '劇情', '劇情', '劇情', '劇情', '動畫', '劇情', '劇情', '劇情', '劇情', '劇情', '劇情',\n",
       "       '劇情', '劇情', '劇情', '劇情', '劇情', '愛情', '劇情', '劇情', '愛情', '歷史/傳記',\n",
       "       '劇情', '劇情', '動畫', '劇情', '劇情', '劇情', '劇情', '動作', '劇情', '劇情', '科幻',\n",
       "       '劇情', '劇情', '劇情', '劇情', '劇情', '劇情', '劇情', '劇情', '劇情', '劇情', '劇情',\n",
       "       '劇情', '劇情', '劇情', '劇情', '動畫', '劇情', '劇情', '愛情', '歷史/傳記', '劇情',\n",
       "       '劇情', '奇幻', '劇情', '劇情', '劇情', '劇情', '恐怖', '歷史/傳記', '劇情', '劇情',\n",
       "       '劇情', '劇情', '劇情', '劇情', '劇情', '劇情', '劇情', '劇情', '歷史/傳記', '劇情',\n",
       "       '劇情', '愛情', '劇情', '動作', '劇情', '劇情', '戰爭', '劇情', '劇情', '動畫', '劇情',\n",
       "       '劇情', '劇情', '劇情', '劇情', '劇情', '愛情', '劇情', '劇情', '劇情', '劇情', '劇情',\n",
       "       '劇情', '劇情', '劇情', '歷史/傳記', '劇情', '愛情', '劇情', '愛情', '劇情', '劇情',\n",
       "       '劇情', '懸疑/驚悚', '劇情', '劇情', '劇情', '劇情', '劇情', '劇情', '恐怖', '劇情',\n",
       "       '劇情', '劇情', '劇情', '劇情', '劇情', '劇情', '劇情', '劇情', '劇情', '劇情', '劇情',\n",
       "       '劇情', '劇情', '劇情', '劇情', '劇情', '劇情', '劇情', '動作', '劇情', '動作', '劇情',\n",
       "       '劇情', '劇情', '動作', '愛情', '劇情', '劇情', '劇情', '劇情', '劇情', '劇情', '劇情',\n",
       "       '劇情', '劇情', '劇情', '劇情', '劇情', '劇情', '劇情', '劇情', '劇情', '劇情', '劇情',\n",
       "       '劇情', '劇情', '劇情', '劇情', '劇情', '劇情', '科幻', '劇情', '劇情', '劇情', '劇情',\n",
       "       '科幻', '動作', '劇情', '劇情', '劇情', '劇情', '劇情', '劇情', '劇情', '劇情', '劇情',\n",
       "       '劇情', '動作', '劇情', '劇情', '劇情', '劇情', '劇情', '劇情', '音樂/歌舞', '劇情',\n",
       "       '劇情', '劇情', '劇情', '劇情', '劇情', '劇情', '劇情', '愛情', '劇情', '劇情', '劇情',\n",
       "       '劇情', '歷史/傳記', '劇情', '劇情', '劇情', '劇情', '劇情', '劇情', '劇情', '劇情',\n",
       "       '劇情', '劇情', '劇情', '愛情', '劇情', '劇情', '劇情', '劇情', '劇情', '劇情', '劇情',\n",
       "       '劇情', '劇情', '愛情', '劇情', '劇情', '劇情', '劇情', '劇情', '劇情', '劇情', '劇情',\n",
       "       '劇情', '劇情', '劇情', '劇情', '劇情', '劇情', '劇情', '劇情', '劇情', '劇情', '劇情',\n",
       "       '愛情', '劇情', '劇情', '劇情', '戰爭', '劇情', '劇情', '劇情', '劇情', '劇情', '動作',\n",
       "       '劇情', '愛情', '劇情', '劇情', '劇情', '劇情', '劇情', '劇情', '劇情', '劇情', '劇情',\n",
       "       '動作', '劇情', '劇情', '劇情', '劇情', '劇情', '劇情', '劇情', '劇情', '劇情', '劇情',\n",
       "       '劇情', '劇情', '劇情', '劇情', '劇情', '劇情', '劇情', '劇情', '劇情', '劇情', '劇情',\n",
       "       '劇情', '劇情', '劇情', '劇情', '奇幻', '劇情', '劇情', '劇情', '劇情', '劇情', '劇情',\n",
       "       '劇情', '劇情', '劇情', '劇情', '劇情', '劇情', '劇情', '劇情', '劇情', '劇情', '劇情',\n",
       "       '劇情', '懸疑/驚悚', '劇情', '劇情', '劇情', '劇情', '劇情', '劇情', '劇情', '劇情',\n",
       "       '劇情', '音樂/歌舞', '劇情', '冒險', '劇情', '劇情', '劇情', '劇情', '劇情', '劇情',\n",
       "       '劇情', '恐怖', '劇情', '劇情', '劇情', '劇情', '劇情', '劇情', '戰爭', '劇情', '劇情',\n",
       "       '劇情', '劇情', '劇情', '奇幻', '劇情', '劇情', '劇情', '劇情', '溫馨/家庭', '劇情',\n",
       "       '恐怖', '懸疑/驚悚', '恐怖', '恐怖', '劇情', '恐怖', '懸疑/驚悚', '恐怖', '動作', '劇情',\n",
       "       '劇情', '恐怖', '劇情', '恐怖', '恐怖', '奇幻', '劇情', '恐怖', '劇情', '懸疑/驚悚',\n",
       "       '恐怖', '恐怖', '懸疑/驚悚', '懸疑/驚悚', '劇情', '劇情', '恐怖', '懸疑/驚悚', '恐怖',\n",
       "       '劇情', '恐怖', '懸疑/驚悚', '懸疑/驚悚', '劇情', '劇情', '恐怖', '懸疑/驚悚', '恐怖',\n",
       "       '恐怖', '懸疑/驚悚', '動作', '懸疑/驚悚', '動作', '恐怖', '恐怖', '恐怖', '恐怖', '恐怖',\n",
       "       '恐怖', '懸疑/驚悚', '科幻', '恐怖', '恐怖', '恐怖', '劇情', '恐怖', '劇情', '恐怖',\n",
       "       '恐怖', '劇情', '恐怖', '懸疑/驚悚', '懸疑/驚悚', '科幻', '劇情', '懸疑/驚悚', '劇情',\n",
       "       '恐怖', '劇情', '恐怖', '劇情', '奇幻', '科幻', '劇情', '劇情', '劇情', '劇情',\n",
       "       '溫馨/家庭', '劇情', '愛情', '動畫', '喜劇', '冒險', '劇情', '動畫', '音樂/歌舞', '喜劇',\n",
       "       '恐怖', '喜劇', '恐怖', '劇情', '劇情', '劇情', '劇情', '喜劇', '喜劇', '劇情', '冒險',\n",
       "       '喜劇', '喜劇', '劇情', '劇情', '冒險', '劇情', '恐怖', '喜劇', '喜劇', '喜劇', '劇情',\n",
       "       '喜劇', '喜劇', '劇情', '劇情', '劇情', '劇情', '劇情', '喜劇', '喜劇', '劇情', '劇情',\n",
       "       '動作', '劇情', '劇情', '劇情', '劇情', '犯罪', '劇情', '動作', '喜劇', '冒險', '劇情',\n",
       "       '劇情', '劇情', '喜劇', '喜劇'], dtype=object)"
      ]
     },
     "metadata": {},
     "execution_count": 38
    }
   ],
   "metadata": {}
  },
  {
   "cell_type": "code",
   "execution_count": 39,
   "source": [
    "#精準度%\r\n",
    "Accuracy = knn.score(tfidf_test,test['main_category'])\r\n",
    "print(Accuracy*100 , '%')"
   ],
   "outputs": [
    {
     "output_type": "stream",
     "name": "stdout",
     "text": [
      "79.35153583617748 %\n"
     ]
    }
   ],
   "metadata": {}
  },
  {
   "cell_type": "code",
   "execution_count": null,
   "source": [],
   "outputs": [],
   "metadata": {}
  }
 ],
 "metadata": {
  "orig_nbformat": 4,
  "language_info": {
   "name": "python",
   "version": "3.9.6",
   "mimetype": "text/x-python",
   "codemirror_mode": {
    "name": "ipython",
    "version": 3
   },
   "pygments_lexer": "ipython3",
   "nbconvert_exporter": "python",
   "file_extension": ".py"
  },
  "kernelspec": {
   "name": "python3",
   "display_name": "Python 3.9.6 64-bit (windows store)"
  },
  "interpreter": {
   "hash": "51dc9676033afd2a491cf59d7b1c70c3cea9273ba80257c1b4703051bab2b9dc"
  }
 },
 "nbformat": 4,
 "nbformat_minor": 2
}