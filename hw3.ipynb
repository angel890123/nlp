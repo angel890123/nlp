{
 "cells": [
  {
   "cell_type": "code",
   "execution_count": 2,
   "source": [
    "from numpy.random import RandomState\r\n",
    "import pandas as pd\r\n",
    "import jieba\r\n",
    "import jieba.analyse\r\n",
    "import re\r\n",
    "from sklearn.feature_extraction.text import TfidfTransformer  \r\n",
    "from sklearn.feature_extraction.text import CountVectorizer "
   ],
   "outputs": [],
   "metadata": {}
  },
  {
   "cell_type": "code",
   "execution_count": 4,
   "source": [
    "def first_category():\r\n",
    "    df = pd.read_csv('movies.csv')\r\n",
    "    #str -> dict\r\n",
    "    df['category'] = df['category'].apply(eval)    \r\n",
    "    def list_category(x):\r\n",
    "        for first in x.values():\r\n",
    "            return(first) \r\n",
    "    df['main_category'] = df['category'].apply(list_category)\r\n",
    "    return df['main_category']"
   ],
   "outputs": [],
   "metadata": {}
  },
  {
   "cell_type": "code",
   "execution_count": null,
   "source": [
    "#轉詞頻矩陣\r\n",
    "def change_tfidf(main_category):\r\n",
    "    tfvectorizer=CountVectorizer() \r\n",
    "    count_vector=tfvectorizer.fit_transform(main_category) # Tf 矩阵\r\n",
    "    transformer = TfidfTransformer() # 轉換Tf矩阵\r\n",
    "    tfidf = transformer.fit_transform(count_vector) # 將TF轉換成Tf-Idf\r\n",
    "    arr=tfidf.toarray()\r\n",
    "    return arr"
   ],
   "outputs": [],
   "metadata": {}
  }
 ],
 "metadata": {
  "orig_nbformat": 4,
  "language_info": {
   "name": "python",
   "version": "3.9.6",
   "mimetype": "text/x-python",
   "codemirror_mode": {
    "name": "ipython",
    "version": 3
   },
   "pygments_lexer": "ipython3",
   "nbconvert_exporter": "python",
   "file_extension": ".py"
  },
  "kernelspec": {
   "name": "python3",
   "display_name": "Python 3.9.6 64-bit (windows store)"
  },
  "interpreter": {
   "hash": "51dc9676033afd2a491cf59d7b1c70c3cea9273ba80257c1b4703051bab2b9dc"
  }
 },
 "nbformat": 4,
 "nbformat_minor": 2
}