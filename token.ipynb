{
 "metadata": {
  "language_info": {
   "codemirror_mode": {
    "name": "ipython",
    "version": 3
   },
   "file_extension": ".py",
   "mimetype": "text/x-python",
   "name": "python",
   "nbconvert_exporter": "python",
   "pygments_lexer": "ipython3",
   "version": "3.9.6"
  },
  "orig_nbformat": 4,
  "kernelspec": {
   "name": "python3",
   "display_name": "Python 3.9.6 64-bit (windows store)"
  },
  "interpreter": {
   "hash": "51dc9676033afd2a491cf59d7b1c70c3cea9273ba80257c1b4703051bab2b9dc"
  }
 },
 "nbformat": 4,
 "nbformat_minor": 2,
 "cells": [
  {
   "cell_type": "code",
   "execution_count": 31,
   "source": [
    "import jieba\r\n",
    "import re\r\n",
    "# encoding=utf-8\r\n",
    "text = open('hw1-dataset.txt','r',encoding = 'utf-8')\r\n",
    "r = '[’!\"#$%&\\'()*+,-./:;<=>[email protected][\\\\]^_`{|}~]+'\r\n",
    "word=[]\r\n",
    "for line in text:\r\n",
    "    line = line.strip('\\n')\r\n",
    "    line = re.sub(r, ' ', line)\r\n",
    "    seg_list = jieba.cut(line, cut_all=False)\r\n",
    "    word.append(list(seg_list))\r\n",
    "text.close()\r\n",
    "print(word)\r\n",
    "    \r\n",
    "\r\n",
    "        "
   ],
   "outputs": [
    {
     "output_type": "error",
     "ename": "TypeError",
     "evalue": "'builtin_function_or_method' object is not iterable",
     "traceback": [
      "\u001b[1;31m---------------------------------------------------------------------------\u001b[0m",
      "\u001b[1;31mTypeError\u001b[0m                                 Traceback (most recent call last)",
      "\u001b[1;32m~\\AppData\\Local\\Temp/ipykernel_11400/1575141083.py\u001b[0m in \u001b[0;36m<module>\u001b[1;34m\u001b[0m\n\u001b[0;32m      5\u001b[0m \u001b[0mr\u001b[0m \u001b[1;33m=\u001b[0m \u001b[1;34m'[’!\"#$%&\\'()*+,-./:;<=>[email protected][\\\\]^_`{|}~]+'\u001b[0m\u001b[1;33m\u001b[0m\u001b[1;33m\u001b[0m\u001b[0m\n\u001b[0;32m      6\u001b[0m \u001b[0mword\u001b[0m\u001b[1;33m=\u001b[0m\u001b[1;33m[\u001b[0m\u001b[1;33m]\u001b[0m\u001b[1;33m\u001b[0m\u001b[1;33m\u001b[0m\u001b[0m\n\u001b[1;32m----> 7\u001b[1;33m \u001b[1;32mfor\u001b[0m \u001b[0mline\u001b[0m \u001b[1;32min\u001b[0m \u001b[0mtext\u001b[0m\u001b[1;33m.\u001b[0m\u001b[0mreadlines\u001b[0m\u001b[1;33m:\u001b[0m\u001b[1;33m\u001b[0m\u001b[1;33m\u001b[0m\u001b[0m\n\u001b[0m\u001b[0;32m      8\u001b[0m     \u001b[0mline\u001b[0m \u001b[1;33m=\u001b[0m \u001b[0mline\u001b[0m\u001b[1;33m.\u001b[0m\u001b[0mstrip\u001b[0m\u001b[1;33m(\u001b[0m\u001b[1;34m'\\n'\u001b[0m\u001b[1;33m)\u001b[0m\u001b[1;33m\u001b[0m\u001b[1;33m\u001b[0m\u001b[0m\n\u001b[0;32m      9\u001b[0m     \u001b[0mline\u001b[0m \u001b[1;33m=\u001b[0m \u001b[0mre\u001b[0m\u001b[1;33m.\u001b[0m\u001b[0msub\u001b[0m\u001b[1;33m(\u001b[0m\u001b[0mr\u001b[0m\u001b[1;33m,\u001b[0m \u001b[1;34m' '\u001b[0m\u001b[1;33m,\u001b[0m \u001b[0mline\u001b[0m\u001b[1;33m)\u001b[0m\u001b[1;33m\u001b[0m\u001b[1;33m\u001b[0m\u001b[0m\n",
      "\u001b[1;31mTypeError\u001b[0m: 'builtin_function_or_method' object is not iterable"
     ]
    }
   ],
   "metadata": {}
  },
  {
   "cell_type": "code",
   "execution_count": 25,
   "source": [
    "import jieba.analyse\r\n",
    "news = '蘇貞昌表示，春節期間中國武漢肺炎疫情急遽升高，他在年假第一天就到中央流行疫情指揮中心聽取簡報，並宣布提升到二級開設。年假期間，衛福部及相關機關幾乎都放棄休假，每天監控及因應各項疫情，並宣布防疫資源整備情形及最新防疫作為，隨時讓國人瞭解最新疫情發展。因為資訊透明，應變迅速，讓國人感受到「有政府，可放心」，感謝陳其邁副院長費心督導，對於年假期間各防疫機關人員的堅守崗位，也表示肯定與感謝。'\r\n",
    "tags = jieba.analyse.extract_tags(news, topK=100, withWeight=True)\r\n",
    "\r\n",
    "for tag in tags:\r\n",
    "    print('word:', tag[0], 'tf-idf:', tag[1])"
   ],
   "outputs": [
    {
     "output_type": "stream",
     "name": "stderr",
     "text": [
      "Building prefix dict from the default dictionary ...\n",
      "Loading model from cache C:\\Users\\89012\\AppData\\Local\\Temp\\jieba.cache\n",
      "Loading model cost 0.709 seconds.\n",
      "Prefix dict has been built successfully.\n"
     ]
    },
    {
     "output_type": "stream",
     "name": "stdout",
     "text": [
      "word: 疫情 tf-idf: 0.4687853402985507\n",
      "word: 防疫 tf-idf: 0.4334283486630435\n",
      "word: 機關 tf-idf: 0.34651500008405794\n",
      "word: 國人 tf-idf: 0.34651500008405794\n",
      "word: 感謝 tf-idf: 0.34651500008405794\n",
      "word: 假期 tf-idf: 0.23572048278782612\n",
      "word: 最新 tf-idf: 0.17504204562753625\n",
      "word: 蘇貞昌 tf-idf: 0.17325750004202897\n",
      "word: 春節 tf-idf: 0.17325750004202897\n",
      "word: 期間 tf-idf: 0.17325750004202897\n",
      "word: 中國 tf-idf: 0.17325750004202897\n",
      "word: 武漢 tf-idf: 0.17325750004202897\n",
      "word: 指揮 tf-idf: 0.17325750004202897\n",
      "word: 聽取 tf-idf: 0.17325750004202897\n",
      "word: 簡報 tf-idf: 0.17325750004202897\n",
      "word: 二級 tf-idf: 0.17325750004202897\n",
      "word: 開設 tf-idf: 0.17325750004202897\n",
      "word: 衛福部 tf-idf: 0.17325750004202897\n",
      "word: 相關 tf-idf: 0.17325750004202897\n",
      "word: 幾乎 tf-idf: 0.17325750004202897\n",
      "word: 放棄 tf-idf: 0.17325750004202897\n",
      "word: 監控及 tf-idf: 0.17325750004202897\n",
      "word: 因應 tf-idf: 0.17325750004202897\n",
      "word: 各項 tf-idf: 0.17325750004202897\n",
      "word: 資源 tf-idf: 0.17325750004202897\n",
      "word: 整備 tf-idf: 0.17325750004202897\n",
      "word: 作為 tf-idf: 0.17325750004202897\n",
      "word: 隨時 tf-idf: 0.17325750004202897\n",
      "word: 瞭解 tf-idf: 0.17325750004202897\n",
      "word: 發展 tf-idf: 0.17325750004202897\n",
      "word: 因為 tf-idf: 0.17325750004202897\n",
      "word: 資訊 tf-idf: 0.17325750004202897\n",
      "word: 應變 tf-idf: 0.17325750004202897\n",
      "word: 其邁 tf-idf: 0.17325750004202897\n",
      "word: 院長 tf-idf: 0.17325750004202897\n",
      "word: 費心督導 tf-idf: 0.17325750004202897\n",
      "word: 人員 tf-idf: 0.17325750004202897\n",
      "word: 堅守崗位 tf-idf: 0.17325750004202897\n",
      "word: 宣布 tf-idf: 0.15708771686695652\n",
      "word: 急遽 tf-idf: 0.14952403932608696\n",
      "word: 休假 tf-idf: 0.13888680490492752\n",
      "word: 肺炎 tf-idf: 0.1279967166631884\n",
      "word: 第一天 tf-idf: 0.11913775424579709\n",
      "word: 表示 tf-idf: 0.11342657001913042\n",
      "word: 升高 tf-idf: 0.10532404664782609\n",
      "word: 透明 tf-idf: 0.10274540975898551\n",
      "word: 感受 tf-idf: 0.09991278877014492\n",
      "word: 流行 tf-idf: 0.09295745418608696\n",
      "word: 情形 tf-idf: 0.09182493679811594\n",
      "word: 放心 tf-idf: 0.08949139435347826\n",
      "word: 每天 tf-idf: 0.08430940642304348\n",
      "word: 肯定 tf-idf: 0.08112203668289855\n",
      "word: 提升 tf-idf: 0.0807429111310145\n",
      "word: 迅速 tf-idf: 0.07581314174115943\n",
      "word: 中央 tf-idf: 0.07483632705391305\n",
      "word: 中心 tf-idf: 0.06985658460956522\n",
      "word: 政府 tf-idf: 0.06622131524666668\n"
     ]
    }
   ],
   "metadata": {}
  },
  {
   "cell_type": "code",
   "execution_count": null,
   "source": [],
   "outputs": [],
   "metadata": {}
  },
  {
   "cell_type": "code",
   "execution_count": null,
   "source": [],
   "outputs": [],
   "metadata": {}
  }
 ]
}