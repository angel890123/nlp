{
 "cells": [
  {
   "cell_type": "code",
   "execution_count": 83,
   "source": [
    "#目標位置>>Yahoo>>電影>>Yahoo本週新片\r\n",
    "#https://tw.movies.yahoo.com/movie_thisweek.html\r\n",
    "import numpy\r\n",
    "import requests\r\n",
    "import re\r\n",
    "from bs4 import BeautifulSoup\r\n",
    "\r\n",
    "#Yahoo電影\r\n",
    "yahoo_movie_url = 'https://movies.yahoo.com.tw/movie_intheaters.html' #目標位置\r\n",
    "\r\n",
    "def check_req_url(url): #測試請求網址是否請求成功\r\n",
    "    resp = requests.get(url) #請求網址\r\n",
    "    #print(resp.status_code) #錯誤時404,成功時200\r\n",
    "    if resp.status_code != 200:  #如果請求失敗\r\n",
    "        print('Invalid url:', resp.url) #印出請求失敗的網址\r\n",
    "        return \"fail\" #回傳失敗提示訊息\r\n",
    "    else:\r\n",
    "        return resp.text #回傳請求成功的html文字\r\n",
    "\r\n",
    "def get_week_new_movies(webpage): #抓取電影資訊\r\n",
    "    soup = BeautifulSoup(webpage, 'html.parser') #網頁解析\r\n",
    "    # movies = [] #域設電影資訊存這裡 \r\n",
    "    allnode_of_a = soup.find_all(\"a\")\r\n",
    "    result = [_.get(\"href\") for _ in allnode_of_a]\r\n",
    "    # print(result)\r\n",
    "    return result\r\n",
    "    \r\n",
    "#     #抓取<div class=\"release_info_text\"></div>內文字\r\n",
    "#     rows = soup.find_all('div', 'release_info_text')\r\n",
    "#     data_movie = dict()\r\n",
    "#     #print(rows)\r\n",
    "#     for row in rows:\r\n",
    "#         data_movie = dict() #存成{\"key\":\"value\"}格式\r\n",
    "#         #電影名稱\r\n",
    "#         data_movie['ch_name'] = row.find('div', 'release_movie_name').a.text.strip()\r\n",
    "#         #英文名稱\r\n",
    "#         data_movie['english_name'] = row.find('div', 'release_movie_name').find('div', 'en').a.text.strip()\r\n",
    "#         #電影介紹\r\n",
    "#         data_movie['info'] = row.find('div', 'release_text').text.strip()\r\n",
    "#         #期待度\r\n",
    "#         data_movie['expectation'] = row.find('div', 'leveltext').span.text.strip()\r\n",
    "       \r\n",
    "        \r\n",
    "#         #預告片\r\n",
    "#         #print(data_movie)#每一圈 都會被取代成下一筆資料 data_movie['ch_name']\r\n",
    "#         #第一圈\r\n",
    "#         #data_movie['ch_name']={'ch_name': '逃'}\r\n",
    "#         #第二圈\r\n",
    "#         #data_movie['ch_name']={'ch_name': '名偵探柯南：紅之校外旅行 鮮紅篇&戀紅篇'}\r\n",
    "#         #第三圈\r\n",
    "#         #data_movie['ch_name']={'ch_name': '惡童當街 經典重映'}\r\n",
    "#         movies.append(data_movie) #再被取代前先存入for 外面的movies=[]\r\n",
    "#         #第一圈存入\r\n",
    "#         #[{'ch_name': '逃'}]\r\n",
    "#         #第二圈存入\r\n",
    "#         #[{'ch_name': '逃'}, {'ch_name': '名偵探柯南：紅之校外旅行 鮮紅篇&戀紅篇'}]\r\n",
    "#         #第三圈存入\r\n",
    "#         #[{'ch_name': '逃'}, {'ch_name': '名偵探柯南：紅之校外旅行 鮮紅篇&戀紅篇'}, {'ch_name': '惡童當街 經典重映'}]\r\n",
    "#         #print(movies)\r\n",
    "#     return movies\r\n",
    "\r\n",
    "# if __name__ == '__main__':\r\n",
    "#     webpage = check_req_url(yahoo_movie_url)\r\n",
    "#     #print(webpage)\r\n",
    "    \r\n",
    "#     if webpage:\r\n",
    "#         movies = get_week_new_movies(webpage)\r\n",
    "#         print(movies)"
   ],
   "outputs": [],
   "metadata": {}
  },
  {
   "cell_type": "code",
   "execution_count": 81,
   "source": [
    "def filterurl(result):\r\n",
    "    # result引數：get到的所有a標籤內herf的內容\r\n",
    "    # 對列表中每個元素進行篩選\r\n",
    "    urlptn = r\"https://movies.yahoo.com.tw/movieinfo_main/(.+)\"  # 匹配模式: 所有http://開頭的連結\r\n",
    "    urls = [re.match(urlptn, str(_)) for _ in result]  # 正則篩選\r\n",
    "    # print(urls)\r\n",
    "    while None in urls:\r\n",
    "        urls.remove(None)  # 移除表中空元素\r\n",
    "    urls = [_.group() for _ in urls]  # group方法獲得re.match()返回值中的字元\r\n",
    "    unique = list(set(urls))\r\n",
    "    print(unique)\r\n",
    "    return unique"
   ],
   "outputs": [],
   "metadata": {}
  },
  {
   "cell_type": "code",
   "execution_count": 90,
   "source": [
    "def expansionurls(unique):\r\n",
    "    a=unique\r\n",
    "    lasturls=[]\r\n",
    "    for num in unique:\r\n",
    "        url=num\r\n",
    "        resp = requests.get(url) #請求網址\r\n",
    "        webpage=resp.text #回傳請求成功的html文字\r\n",
    "        soup = BeautifulSoup(webpage, 'html.parser') #網頁解析\r\n",
    "        # movies = [] #域設電影資訊存這裡 \r\n",
    "        allnode_of_a = soup.find_all(\"a\")\r\n",
    "        result = [_.get(\"href\") for _ in allnode_of_a]\r\n",
    "        # print(result)\r\n",
    "        urlptn = r\"https://movies.yahoo.com.tw/movieinfo_main/(.+)\"  # 匹配模式: 所有http://開頭的連結\r\n",
    "        urls = [re.match(urlptn, str(_)) for _ in result]  # 正則篩選\r\n",
    "        # print(urls)\r\n",
    "        while None in urls:\r\n",
    "            urls.remove(None)  # 移除表中空元素\r\n",
    "        urls = [_.group() for _ in urls]  # group方法獲得re.match()返回值中的字元\r\n",
    "        a.append(urls)\r\n",
    "    for url in a:\r\n",
    "        if url not in lasturls:\r\n",
    "            lasturls.append(url)\r\n",
    "    print(lasturls)\r\n",
    "    return lasturls\r\n",
    "   \r\n",
    "\r\n",
    "        "
   ],
   "outputs": [],
   "metadata": {}
  },
  {
   "cell_type": "code",
   "execution_count": 91,
   "source": [
    "url='https://movies.yahoo.com.tw/movie_intheaters.html'\r\n",
    "webpage=check_req_url(url)\r\n",
    "result=get_week_new_movies(webpage)\r\n",
    "unique = filterurl(result)\r\n",
    "expansionurls(unique)"
   ],
   "outputs": [
    {
     "output_type": "stream",
     "name": "stdout",
     "text": [
      "['https://movies.yahoo.com.tw/movieinfo_main/%E8%B7%AF%E5%8D%A1%E7%9A%84%E5%A4%8F%E5%A4%A9-luca-11268', 'https://movies.yahoo.com.tw/movieinfo_main/自殺突擊隊-集結-the-suicide-squad-11328', 'https://movies.yahoo.com.tw/movieinfo_main/%E6%B1%AA%E6%B1%AA%E9%9A%8A%E7%AB%8B%E5%A4%A7%E5%8A%9F%E9%9B%BB%E5%BD%B1%E7%89%88-paw-patrol-the-movie-11411', 'https://movies.yahoo.com.tw/movieinfo_main/%E5%99%A4%E7%95%8CII-a-quiet-place-part-ii-10435', 'https://movies.yahoo.com.tw/movieinfo_main/%E8%A9%AD%E8%80%81-old-11409', 'https://movies.yahoo.com.tw/movieinfo_main/%E5%8E%B2%E9%99%B0%E5%AE%853-%E6%98%AF%E6%83%A1%E9%AD%94%E9%80%BC%E6%88%91%E7%9A%84-the-conjuring-the-devil-made-me-do-it-11376', 'https://movies.yahoo.com.tw/movieinfo_main/%E5%90%88%E6%B3%95%E4%BC%B4%E4%BE%B6-special-couple-11441', 'https://movies.yahoo.com.tw/movieinfo_main/%E9%BB%91%E5%AF%A1%E5%A9%A6-black-widow-10397', 'https://movies.yahoo.com.tw/movieinfo_main/詭老-old-11409', 'https://movies.yahoo.com.tw/movieinfo_main/%E5%AF%B6%E8%B2%9D%E8%80%81%E9%97%86-%E5%AE%B6%E5%A4%A7%E6%A5%AD%E5%A4%A7-the-boss-baby-family-business-11084', 'https://movies.yahoo.com.tw/movieinfo_main/%E8%87%AA%E6%AE%BA%E7%AA%81%E6%93%8A%E9%9A%8A-%E9%9B%86%E7%B5%90-the-suicide-squad-11328', 'https://movies.yahoo.com.tw/movieinfo_main/%E7%94%B2%E5%AD%90%E5%9C%92-%E5%A4%A2%E6%83%B3%E7%AB%B6%E6%8A%80%E5%A0%B4-koshien-japans-field-of-dreams-11449', 'https://movies.yahoo.com.tw/movieinfo_main/%E9%9B%99%E9%9D%A2%E8%96%87%E8%8B%A5%E5%A6%AE%E5%8D%A1-%E7%B6%93%E5%85%B8%E6%95%B8%E4%BD%8D%E4%BF%AE%E5%BE%A9-the-double-life-of-veronique-11425', 'https://movies.yahoo.com.tw/movieinfo_main/%E6%80%AA%E7%89%A9%E5%A5%87%E5%85%B5-%E5%85%A8%E6%96%B0%E4%B8%96%E4%BB%A3-space-jam-a-new-legacy-11342', 'https://movies.yahoo.com.tw/movieinfo_main/%E7%8E%A9%E5%91%BD%E9%97%9C%E9%A0%AD9-fast-furious-9-10482', 'https://movies.yahoo.com.tw/movieinfo_main/%E5%AF%86%E5%BC%92%E9%81%8A%E6%88%B22-%E5%8B%9D%E8%80%85%E5%8D%B1%E4%BA%A1-escape-room-tournament-of-champions-11408', 'https://movies.yahoo.com.tw/movieinfo_main/%E4%BA%BA%E8%81%B2-the-human-voice-11400', 'https://movies.yahoo.com.tw/movieinfo_main/%E7%89%B9%E7%A8%AE%E9%83%A8%E9%9A%8A-%E8%9B%87%E7%9C%BC%E4%B9%8B%E6%88%B0-snake-eyes-10461', 'https://movies.yahoo.com.tw/movieinfo_main/比得兔兔-peter-rabbit-2-the-runaway-10488', 'https://movies.yahoo.com.tw/movieinfo_main/%E9%9D%92%E6%98%A5-%E7%AC%AC50%E5%B1%86%E6%97%A5%E6%9C%AC%E5%85%A8%E5%9C%8B%E9%AB%98%E4%B8%AD%E6%A3%92%E7%90%83%E9%8C%A6%E6%A8%99%E8%B3%BD-youth-the-50th-national-high-school-baseball-tournament-11450', 'https://movies.yahoo.com.tw/movieinfo_main/%E8%96%84%E8%8D%B7%E7%B3%96-peppermint-candy-11368', 'https://movies.yahoo.com.tw/movieinfo_main/%E9%A9%85%E9%AD%94%E7%A6%81%E5%8D%80-demonic-11439', 'https://movies.yahoo.com.tw/movieinfo_main/%E5%8F%A2%E6%9E%97%E5%A5%87%E8%88%AA-jungle-cruise-10315']\n"
     ]
    },
    {
     "output_type": "error",
     "ename": "InvalidSchema",
     "evalue": "No connection adapters were found for \"['https://movies.yahoo.com.tw/movieinfo_main/自殺突擊隊-集結-the-suicide-squad-11328', 'https://movies.yahoo.com.tw/movieinfo_main/詭老-old-11409', 'https://movies.yahoo.com.tw/movieinfo_main/比得兔兔-peter-rabbit-2-the-runaway-10488', 'https://movies.yahoo.com.tw/movieinfo_main/%E8%87%AA%E6%AE%BA%E7%AA%81%E6%93%8A%E9%9A%8A-%E9%9B%86%E7%B5%90-the-suicide-squad-11328', 'https://movies.yahoo.com.tw/movieinfo_main/%E8%87%AA%E6%AE%BA%E7%AA%81%E6%93%8A%E9%9A%8A-%E9%9B%86%E7%B5%90-the-suicide-squad-11328', 'https://movies.yahoo.com.tw/movieinfo_main/%E8%87%AA%E6%AE%BA%E7%AA%81%E6%93%8A%E9%9A%8A-%E9%9B%86%E7%B5%90-the-suicide-squad-11328', 'https://movies.yahoo.com.tw/movieinfo_main/%E9%BB%91%E5%AF%A1%E5%A9%A6-black-widow-10397', 'https://movies.yahoo.com.tw/movieinfo_main/%E5%8F%A2%E6%9E%97%E5%A5%87%E8%88%AA-jungle-cruise-10315', 'https://movies.yahoo.com.tw/movieinfo_main/%E8%B7%AF%E5%8D%A1%E7%9A%84%E5%A4%8F%E5%A4%A9-luca-11268', 'https://movies.yahoo.com.tw/movieinfo_main/%E5%8E%B2%E9%99%B0%E5%AE%853-%E6%98%AF%E6%83%A1%E9%AD%94%E9%80%BC%E6%88%91%E7%9A%84-the-conjuring-the-devil-made-me-do-it-11376', 'https://movies.yahoo.com.tw/movieinfo_main/%E8%A9%AD%E8%80%81-old-11409', 'https://movies.yahoo.com.tw/movieinfo_main/%E8%96%84%E8%8D%B7%E7%B3%96-peppermint-candy-11368', 'https://movies.yahoo.com.tw/movieinfo_main/%E9%A9%85%E9%AD%94%E7%A6%81%E5%8D%80-demonic-11439', 'https://movies.yahoo.com.tw/movieinfo_main/%E4%BA%BA%E8%81%B2-the-human-voice-11400', 'https://movies.yahoo.com.tw/movieinfo_main/%E5%8F%A2%E6%9E%97%E5%A5%87%E8%88%AA-jungle-cruise-10315', 'https://movies.yahoo.com.tw/movieinfo_main/%E5%8F%A2%E6%9E%97%E5%A5%87%E8%88%AA-jungle-cruise-10315', 'https://movies.yahoo.com.tw/movieinfo_main/%E5%8F%A2%E6%9E%97%E5%A5%87%E8%88%AA-jungle-cruise-10315', 'https://movies.yahoo.com.tw/movieinfo_main/%E8%A9%AD%E8%80%81-old-11409', 'https://movies.yahoo.com.tw/movieinfo_main/%E9%BB%91%E5%AF%A1%E5%A9%A6-black-widow-10397', 'https://movies.yahoo.com.tw/movieinfo_main/%E6%80%AA%E7%89%A9%E5%A5%87%E5%85%B5-%E5%85%A8%E6%96%B0%E4%B8%96%E4%BB%A3-space-jam-a-new-legacy-11342', 'https://movies.yahoo.com.tw/movieinfo_main/%E7%89%B9%E7%A8%AE%E9%83%A8%E9%9A%8A-%E8%9B%87%E7%9C%BC%E4%B9%8B%E6%88%B0-snake-eyes-10461', 'https://movies.yahoo.com.tw/movieinfo_main/%E7%8E%A9%E5%91%BD%E9%97%9C%E9%A0%AD9-fast-furious-9-10482', 'https://movies.yahoo.com.tw/movieinfo_main/%E5%AF%86%E5%BC%92%E9%81%8A%E6%88%B22-%E5%8B%9D%E8%80%85%E5%8D%B1%E4%BA%A1-escape-room-tournament-of-champions-11408', 'https://movies.yahoo.com.tw/movieinfo_main/%E7%8E%A9%E5%91%BD%E9%97%9C%E9%A0%AD9-fast-furious-9-10482', 'https://movies.yahoo.com.tw/movieinfo_main/%E7%8E%A9%E5%91%BD%E9%97%9C%E9%A0%AD9-fast-furious-9-10482', 'https://movies.yahoo.com.tw/movieinfo_main/%E7%8E%A9%E5%91%BD%E9%97%9C%E9%A0%AD9-fast-furious-9-10482', 'https://movies.yahoo.com.tw/movieinfo_main/%E5%99%A4%E7%95%8CII-a-quiet-place-part-ii-10435', 'https://movies.yahoo.com.tw/movieinfo_main/%E5%8F%A2%E6%9E%97%E5%A5%87%E8%88%AA-jungle-cruise-10315', 'https://movies.yahoo.com.tw/movieinfo_main/%E8%A9%AD%E8%80%81-old-11409', 'https://movies.yahoo.com.tw/movieinfo_main/%E8%B7%AF%E5%8D%A1%E7%9A%84%E5%A4%8F%E5%A4%A9-luca-11268', 'https://movies.yahoo.com.tw/movieinfo_main/%E8%87%AA%E6%AE%BA%E7%AA%81%E6%93%8A%E9%9A%8A-%E9%9B%86%E7%B5%90-the-suicide-squad-11328', 'https://movies.yahoo.com.tw/movieinfo_main/%E5%AF%86%E5%BC%92%E9%81%8A%E6%88%B22-%E5%8B%9D%E8%80%85%E5%8D%B1%E4%BA%A1-escape-room-tournament-of-champions-11408', 'https://movies.yahoo.com.tw/movieinfo_main/%E7%89%B9%E7%A8%AE%E9%83%A8%E9%9A%8A-%E8%9B%87%E7%9C%BC%E4%B9%8B%E6%88%B0-snake-eyes-10461', 'https://movies.yahoo.com.tw/movieinfo_main/%E5%AF%B6%E8%B2%9D%E8%80%81%E9%97%86-%E5%AE%B6%E5%A4%A7%E6%A5%AD%E5%A4%A7-the-boss-baby-family-business-11084', 'https://movies.yahoo.com.tw/movieinfo_main/%E6%B1%AA%E6%B1%AA%E9%9A%8A%E7%AB%8B%E5%A4%A7%E5%8A%9F%E9%9B%BB%E5%BD%B1%E7%89%88-paw-patrol-the-movie-11411', 'https://movies.yahoo.com.tw/movieinfo_main/%E8%B7%AF%E5%8D%A1%E7%9A%84%E5%A4%8F%E5%A4%A9-luca-11268']\"",
     "traceback": [
      "\u001b[1;31m---------------------------------------------------------------------------\u001b[0m",
      "\u001b[1;31mInvalidSchema\u001b[0m                             Traceback (most recent call last)",
      "\u001b[1;32m~\\AppData\\Local\\Temp/ipykernel_4188/3214614538.py\u001b[0m in \u001b[0;36m<module>\u001b[1;34m\u001b[0m\n\u001b[0;32m      3\u001b[0m \u001b[0mresult\u001b[0m\u001b[1;33m=\u001b[0m\u001b[0mget_week_new_movies\u001b[0m\u001b[1;33m(\u001b[0m\u001b[0mwebpage\u001b[0m\u001b[1;33m)\u001b[0m\u001b[1;33m\u001b[0m\u001b[1;33m\u001b[0m\u001b[0m\n\u001b[0;32m      4\u001b[0m \u001b[0munique\u001b[0m \u001b[1;33m=\u001b[0m \u001b[0mfilterurl\u001b[0m\u001b[1;33m(\u001b[0m\u001b[0mresult\u001b[0m\u001b[1;33m)\u001b[0m\u001b[1;33m\u001b[0m\u001b[1;33m\u001b[0m\u001b[0m\n\u001b[1;32m----> 5\u001b[1;33m \u001b[0mexpansionurls\u001b[0m\u001b[1;33m(\u001b[0m\u001b[0munique\u001b[0m\u001b[1;33m)\u001b[0m\u001b[1;33m\u001b[0m\u001b[1;33m\u001b[0m\u001b[0m\n\u001b[0m",
      "\u001b[1;32m~\\AppData\\Local\\Temp/ipykernel_4188/1416078495.py\u001b[0m in \u001b[0;36mexpansionurls\u001b[1;34m(unique)\u001b[0m\n\u001b[0;32m      4\u001b[0m     \u001b[1;32mfor\u001b[0m \u001b[0mrow\u001b[0m \u001b[1;32min\u001b[0m \u001b[0munique\u001b[0m\u001b[1;33m:\u001b[0m\u001b[1;33m\u001b[0m\u001b[1;33m\u001b[0m\u001b[0m\n\u001b[0;32m      5\u001b[0m         \u001b[0murl\u001b[0m\u001b[1;33m=\u001b[0m\u001b[0mrow\u001b[0m\u001b[1;33m\u001b[0m\u001b[1;33m\u001b[0m\u001b[0m\n\u001b[1;32m----> 6\u001b[1;33m         \u001b[0mresp\u001b[0m \u001b[1;33m=\u001b[0m \u001b[0mrequests\u001b[0m\u001b[1;33m.\u001b[0m\u001b[0mget\u001b[0m\u001b[1;33m(\u001b[0m\u001b[0murl\u001b[0m\u001b[1;33m)\u001b[0m \u001b[1;31m#請求網址\u001b[0m\u001b[1;33m\u001b[0m\u001b[1;33m\u001b[0m\u001b[0m\n\u001b[0m\u001b[0;32m      7\u001b[0m         \u001b[1;32mif\u001b[0m \u001b[0mresp\u001b[0m\u001b[1;33m.\u001b[0m\u001b[0mstatus_code\u001b[0m \u001b[1;33m!=\u001b[0m \u001b[1;36m200\u001b[0m\u001b[1;33m:\u001b[0m  \u001b[1;31m#如果請求失敗\u001b[0m\u001b[1;33m\u001b[0m\u001b[1;33m\u001b[0m\u001b[0m\n\u001b[0;32m      8\u001b[0m             \u001b[0mprint\u001b[0m\u001b[1;33m(\u001b[0m\u001b[1;34m'Invalid url:'\u001b[0m\u001b[1;33m,\u001b[0m \u001b[0mresp\u001b[0m\u001b[1;33m.\u001b[0m\u001b[0murl\u001b[0m\u001b[1;33m)\u001b[0m \u001b[1;31m#印出請求失敗的網址\u001b[0m\u001b[1;33m\u001b[0m\u001b[1;33m\u001b[0m\u001b[0m\n",
      "\u001b[1;32m~\\AppData\\Local\\Packages\\PythonSoftwareFoundation.Python.3.9_qbz5n2kfra8p0\\LocalCache\\local-packages\\Python39\\site-packages\\requests\\api.py\u001b[0m in \u001b[0;36mget\u001b[1;34m(url, params, **kwargs)\u001b[0m\n\u001b[0;32m     74\u001b[0m \u001b[1;33m\u001b[0m\u001b[0m\n\u001b[0;32m     75\u001b[0m     \u001b[0mkwargs\u001b[0m\u001b[1;33m.\u001b[0m\u001b[0msetdefault\u001b[0m\u001b[1;33m(\u001b[0m\u001b[1;34m'allow_redirects'\u001b[0m\u001b[1;33m,\u001b[0m \u001b[1;32mTrue\u001b[0m\u001b[1;33m)\u001b[0m\u001b[1;33m\u001b[0m\u001b[1;33m\u001b[0m\u001b[0m\n\u001b[1;32m---> 76\u001b[1;33m     \u001b[1;32mreturn\u001b[0m \u001b[0mrequest\u001b[0m\u001b[1;33m(\u001b[0m\u001b[1;34m'get'\u001b[0m\u001b[1;33m,\u001b[0m \u001b[0murl\u001b[0m\u001b[1;33m,\u001b[0m \u001b[0mparams\u001b[0m\u001b[1;33m=\u001b[0m\u001b[0mparams\u001b[0m\u001b[1;33m,\u001b[0m \u001b[1;33m**\u001b[0m\u001b[0mkwargs\u001b[0m\u001b[1;33m)\u001b[0m\u001b[1;33m\u001b[0m\u001b[1;33m\u001b[0m\u001b[0m\n\u001b[0m\u001b[0;32m     77\u001b[0m \u001b[1;33m\u001b[0m\u001b[0m\n\u001b[0;32m     78\u001b[0m \u001b[1;33m\u001b[0m\u001b[0m\n",
      "\u001b[1;32m~\\AppData\\Local\\Packages\\PythonSoftwareFoundation.Python.3.9_qbz5n2kfra8p0\\LocalCache\\local-packages\\Python39\\site-packages\\requests\\api.py\u001b[0m in \u001b[0;36mrequest\u001b[1;34m(method, url, **kwargs)\u001b[0m\n\u001b[0;32m     59\u001b[0m     \u001b[1;31m# cases, and look like a memory leak in others.\u001b[0m\u001b[1;33m\u001b[0m\u001b[1;33m\u001b[0m\u001b[1;33m\u001b[0m\u001b[0m\n\u001b[0;32m     60\u001b[0m     \u001b[1;32mwith\u001b[0m \u001b[0msessions\u001b[0m\u001b[1;33m.\u001b[0m\u001b[0mSession\u001b[0m\u001b[1;33m(\u001b[0m\u001b[1;33m)\u001b[0m \u001b[1;32mas\u001b[0m \u001b[0msession\u001b[0m\u001b[1;33m:\u001b[0m\u001b[1;33m\u001b[0m\u001b[1;33m\u001b[0m\u001b[0m\n\u001b[1;32m---> 61\u001b[1;33m         \u001b[1;32mreturn\u001b[0m \u001b[0msession\u001b[0m\u001b[1;33m.\u001b[0m\u001b[0mrequest\u001b[0m\u001b[1;33m(\u001b[0m\u001b[0mmethod\u001b[0m\u001b[1;33m=\u001b[0m\u001b[0mmethod\u001b[0m\u001b[1;33m,\u001b[0m \u001b[0murl\u001b[0m\u001b[1;33m=\u001b[0m\u001b[0murl\u001b[0m\u001b[1;33m,\u001b[0m \u001b[1;33m**\u001b[0m\u001b[0mkwargs\u001b[0m\u001b[1;33m)\u001b[0m\u001b[1;33m\u001b[0m\u001b[1;33m\u001b[0m\u001b[0m\n\u001b[0m\u001b[0;32m     62\u001b[0m \u001b[1;33m\u001b[0m\u001b[0m\n\u001b[0;32m     63\u001b[0m \u001b[1;33m\u001b[0m\u001b[0m\n",
      "\u001b[1;32m~\\AppData\\Local\\Packages\\PythonSoftwareFoundation.Python.3.9_qbz5n2kfra8p0\\LocalCache\\local-packages\\Python39\\site-packages\\requests\\sessions.py\u001b[0m in \u001b[0;36mrequest\u001b[1;34m(self, method, url, params, data, headers, cookies, files, auth, timeout, allow_redirects, proxies, hooks, stream, verify, cert, json)\u001b[0m\n\u001b[0;32m    540\u001b[0m         }\n\u001b[0;32m    541\u001b[0m         \u001b[0msend_kwargs\u001b[0m\u001b[1;33m.\u001b[0m\u001b[0mupdate\u001b[0m\u001b[1;33m(\u001b[0m\u001b[0msettings\u001b[0m\u001b[1;33m)\u001b[0m\u001b[1;33m\u001b[0m\u001b[1;33m\u001b[0m\u001b[0m\n\u001b[1;32m--> 542\u001b[1;33m         \u001b[0mresp\u001b[0m \u001b[1;33m=\u001b[0m \u001b[0mself\u001b[0m\u001b[1;33m.\u001b[0m\u001b[0msend\u001b[0m\u001b[1;33m(\u001b[0m\u001b[0mprep\u001b[0m\u001b[1;33m,\u001b[0m \u001b[1;33m**\u001b[0m\u001b[0msend_kwargs\u001b[0m\u001b[1;33m)\u001b[0m\u001b[1;33m\u001b[0m\u001b[1;33m\u001b[0m\u001b[0m\n\u001b[0m\u001b[0;32m    543\u001b[0m \u001b[1;33m\u001b[0m\u001b[0m\n\u001b[0;32m    544\u001b[0m         \u001b[1;32mreturn\u001b[0m \u001b[0mresp\u001b[0m\u001b[1;33m\u001b[0m\u001b[1;33m\u001b[0m\u001b[0m\n",
      "\u001b[1;32m~\\AppData\\Local\\Packages\\PythonSoftwareFoundation.Python.3.9_qbz5n2kfra8p0\\LocalCache\\local-packages\\Python39\\site-packages\\requests\\sessions.py\u001b[0m in \u001b[0;36msend\u001b[1;34m(self, request, **kwargs)\u001b[0m\n\u001b[0;32m    647\u001b[0m \u001b[1;33m\u001b[0m\u001b[0m\n\u001b[0;32m    648\u001b[0m         \u001b[1;31m# Get the appropriate adapter to use\u001b[0m\u001b[1;33m\u001b[0m\u001b[1;33m\u001b[0m\u001b[1;33m\u001b[0m\u001b[0m\n\u001b[1;32m--> 649\u001b[1;33m         \u001b[0madapter\u001b[0m \u001b[1;33m=\u001b[0m \u001b[0mself\u001b[0m\u001b[1;33m.\u001b[0m\u001b[0mget_adapter\u001b[0m\u001b[1;33m(\u001b[0m\u001b[0murl\u001b[0m\u001b[1;33m=\u001b[0m\u001b[0mrequest\u001b[0m\u001b[1;33m.\u001b[0m\u001b[0murl\u001b[0m\u001b[1;33m)\u001b[0m\u001b[1;33m\u001b[0m\u001b[1;33m\u001b[0m\u001b[0m\n\u001b[0m\u001b[0;32m    650\u001b[0m \u001b[1;33m\u001b[0m\u001b[0m\n\u001b[0;32m    651\u001b[0m         \u001b[1;31m# Start time (approximately) of the request\u001b[0m\u001b[1;33m\u001b[0m\u001b[1;33m\u001b[0m\u001b[1;33m\u001b[0m\u001b[0m\n",
      "\u001b[1;32m~\\AppData\\Local\\Packages\\PythonSoftwareFoundation.Python.3.9_qbz5n2kfra8p0\\LocalCache\\local-packages\\Python39\\site-packages\\requests\\sessions.py\u001b[0m in \u001b[0;36mget_adapter\u001b[1;34m(self, url)\u001b[0m\n\u001b[0;32m    740\u001b[0m \u001b[1;33m\u001b[0m\u001b[0m\n\u001b[0;32m    741\u001b[0m         \u001b[1;31m# Nothing matches :-/\u001b[0m\u001b[1;33m\u001b[0m\u001b[1;33m\u001b[0m\u001b[1;33m\u001b[0m\u001b[0m\n\u001b[1;32m--> 742\u001b[1;33m         \u001b[1;32mraise\u001b[0m \u001b[0mInvalidSchema\u001b[0m\u001b[1;33m(\u001b[0m\u001b[1;34m\"No connection adapters were found for {!r}\"\u001b[0m\u001b[1;33m.\u001b[0m\u001b[0mformat\u001b[0m\u001b[1;33m(\u001b[0m\u001b[0murl\u001b[0m\u001b[1;33m)\u001b[0m\u001b[1;33m)\u001b[0m\u001b[1;33m\u001b[0m\u001b[1;33m\u001b[0m\u001b[0m\n\u001b[0m\u001b[0;32m    743\u001b[0m \u001b[1;33m\u001b[0m\u001b[0m\n\u001b[0;32m    744\u001b[0m     \u001b[1;32mdef\u001b[0m \u001b[0mclose\u001b[0m\u001b[1;33m(\u001b[0m\u001b[0mself\u001b[0m\u001b[1;33m)\u001b[0m\u001b[1;33m:\u001b[0m\u001b[1;33m\u001b[0m\u001b[1;33m\u001b[0m\u001b[0m\n",
      "\u001b[1;31mInvalidSchema\u001b[0m: No connection adapters were found for \"['https://movies.yahoo.com.tw/movieinfo_main/自殺突擊隊-集結-the-suicide-squad-11328', 'https://movies.yahoo.com.tw/movieinfo_main/詭老-old-11409', 'https://movies.yahoo.com.tw/movieinfo_main/比得兔兔-peter-rabbit-2-the-runaway-10488', 'https://movies.yahoo.com.tw/movieinfo_main/%E8%87%AA%E6%AE%BA%E7%AA%81%E6%93%8A%E9%9A%8A-%E9%9B%86%E7%B5%90-the-suicide-squad-11328', 'https://movies.yahoo.com.tw/movieinfo_main/%E8%87%AA%E6%AE%BA%E7%AA%81%E6%93%8A%E9%9A%8A-%E9%9B%86%E7%B5%90-the-suicide-squad-11328', 'https://movies.yahoo.com.tw/movieinfo_main/%E8%87%AA%E6%AE%BA%E7%AA%81%E6%93%8A%E9%9A%8A-%E9%9B%86%E7%B5%90-the-suicide-squad-11328', 'https://movies.yahoo.com.tw/movieinfo_main/%E9%BB%91%E5%AF%A1%E5%A9%A6-black-widow-10397', 'https://movies.yahoo.com.tw/movieinfo_main/%E5%8F%A2%E6%9E%97%E5%A5%87%E8%88%AA-jungle-cruise-10315', 'https://movies.yahoo.com.tw/movieinfo_main/%E8%B7%AF%E5%8D%A1%E7%9A%84%E5%A4%8F%E5%A4%A9-luca-11268', 'https://movies.yahoo.com.tw/movieinfo_main/%E5%8E%B2%E9%99%B0%E5%AE%853-%E6%98%AF%E6%83%A1%E9%AD%94%E9%80%BC%E6%88%91%E7%9A%84-the-conjuring-the-devil-made-me-do-it-11376', 'https://movies.yahoo.com.tw/movieinfo_main/%E8%A9%AD%E8%80%81-old-11409', 'https://movies.yahoo.com.tw/movieinfo_main/%E8%96%84%E8%8D%B7%E7%B3%96-peppermint-candy-11368', 'https://movies.yahoo.com.tw/movieinfo_main/%E9%A9%85%E9%AD%94%E7%A6%81%E5%8D%80-demonic-11439', 'https://movies.yahoo.com.tw/movieinfo_main/%E4%BA%BA%E8%81%B2-the-human-voice-11400', 'https://movies.yahoo.com.tw/movieinfo_main/%E5%8F%A2%E6%9E%97%E5%A5%87%E8%88%AA-jungle-cruise-10315', 'https://movies.yahoo.com.tw/movieinfo_main/%E5%8F%A2%E6%9E%97%E5%A5%87%E8%88%AA-jungle-cruise-10315', 'https://movies.yahoo.com.tw/movieinfo_main/%E5%8F%A2%E6%9E%97%E5%A5%87%E8%88%AA-jungle-cruise-10315', 'https://movies.yahoo.com.tw/movieinfo_main/%E8%A9%AD%E8%80%81-old-11409', 'https://movies.yahoo.com.tw/movieinfo_main/%E9%BB%91%E5%AF%A1%E5%A9%A6-black-widow-10397', 'https://movies.yahoo.com.tw/movieinfo_main/%E6%80%AA%E7%89%A9%E5%A5%87%E5%85%B5-%E5%85%A8%E6%96%B0%E4%B8%96%E4%BB%A3-space-jam-a-new-legacy-11342', 'https://movies.yahoo.com.tw/movieinfo_main/%E7%89%B9%E7%A8%AE%E9%83%A8%E9%9A%8A-%E8%9B%87%E7%9C%BC%E4%B9%8B%E6%88%B0-snake-eyes-10461', 'https://movies.yahoo.com.tw/movieinfo_main/%E7%8E%A9%E5%91%BD%E9%97%9C%E9%A0%AD9-fast-furious-9-10482', 'https://movies.yahoo.com.tw/movieinfo_main/%E5%AF%86%E5%BC%92%E9%81%8A%E6%88%B22-%E5%8B%9D%E8%80%85%E5%8D%B1%E4%BA%A1-escape-room-tournament-of-champions-11408', 'https://movies.yahoo.com.tw/movieinfo_main/%E7%8E%A9%E5%91%BD%E9%97%9C%E9%A0%AD9-fast-furious-9-10482', 'https://movies.yahoo.com.tw/movieinfo_main/%E7%8E%A9%E5%91%BD%E9%97%9C%E9%A0%AD9-fast-furious-9-10482', 'https://movies.yahoo.com.tw/movieinfo_main/%E7%8E%A9%E5%91%BD%E9%97%9C%E9%A0%AD9-fast-furious-9-10482', 'https://movies.yahoo.com.tw/movieinfo_main/%E5%99%A4%E7%95%8CII-a-quiet-place-part-ii-10435', 'https://movies.yahoo.com.tw/movieinfo_main/%E5%8F%A2%E6%9E%97%E5%A5%87%E8%88%AA-jungle-cruise-10315', 'https://movies.yahoo.com.tw/movieinfo_main/%E8%A9%AD%E8%80%81-old-11409', 'https://movies.yahoo.com.tw/movieinfo_main/%E8%B7%AF%E5%8D%A1%E7%9A%84%E5%A4%8F%E5%A4%A9-luca-11268', 'https://movies.yahoo.com.tw/movieinfo_main/%E8%87%AA%E6%AE%BA%E7%AA%81%E6%93%8A%E9%9A%8A-%E9%9B%86%E7%B5%90-the-suicide-squad-11328', 'https://movies.yahoo.com.tw/movieinfo_main/%E5%AF%86%E5%BC%92%E9%81%8A%E6%88%B22-%E5%8B%9D%E8%80%85%E5%8D%B1%E4%BA%A1-escape-room-tournament-of-champions-11408', 'https://movies.yahoo.com.tw/movieinfo_main/%E7%89%B9%E7%A8%AE%E9%83%A8%E9%9A%8A-%E8%9B%87%E7%9C%BC%E4%B9%8B%E6%88%B0-snake-eyes-10461', 'https://movies.yahoo.com.tw/movieinfo_main/%E5%AF%B6%E8%B2%9D%E8%80%81%E9%97%86-%E5%AE%B6%E5%A4%A7%E6%A5%AD%E5%A4%A7-the-boss-baby-family-business-11084', 'https://movies.yahoo.com.tw/movieinfo_main/%E6%B1%AA%E6%B1%AA%E9%9A%8A%E7%AB%8B%E5%A4%A7%E5%8A%9F%E9%9B%BB%E5%BD%B1%E7%89%88-paw-patrol-the-movie-11411', 'https://movies.yahoo.com.tw/movieinfo_main/%E8%B7%AF%E5%8D%A1%E7%9A%84%E5%A4%8F%E5%A4%A9-luca-11268']\""
     ]
    }
   ],
   "metadata": {}
  }
 ],
 "metadata": {
  "orig_nbformat": 4,
  "language_info": {
   "name": "python",
   "version": "3.9.6",
   "mimetype": "text/x-python",
   "codemirror_mode": {
    "name": "ipython",
    "version": 3
   },
   "pygments_lexer": "ipython3",
   "nbconvert_exporter": "python",
   "file_extension": ".py"
  },
  "kernelspec": {
   "name": "python3",
   "display_name": "Python 3.9.6 64-bit (windows store)"
  },
  "interpreter": {
   "hash": "51dc9676033afd2a491cf59d7b1c70c3cea9273ba80257c1b4703051bab2b9dc"
  }
 },
 "nbformat": 4,
 "nbformat_minor": 2
}