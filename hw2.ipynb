{
 "cells": [
  {
   "cell_type": "code",
   "execution_count": 56,
   "source": [
    "#目標位置>>Yahoo>>電影>>Yahoo本週新片\r\n",
    "#https://tw.movies.yahoo.com/movie_thisweek.html\r\n",
    "import requests\r\n",
    "import re\r\n",
    "from bs4 import BeautifulSoup\r\n",
    "import pandas as pd\r\n",
    "\r\n",
    "\r\n",
    "def check_req_url(url): #測試請求網址是否請求成功\r\n",
    "    resp = requests.get(url) #請求網址\r\n",
    "    #print(resp.status_code) #錯誤時404,成功時200\r\n",
    "    if resp.status_code != 200:  #如果請求失敗\r\n",
    "        print('Invalid url:', resp.url) #印出請求失敗的網址\r\n",
    "        return 0 #回傳失敗提示訊息\r\n",
    "    else:\r\n",
    "        return resp.content #回傳請求成功的html文字\r\n",
    "    \r\n",
    "    "
   ],
   "outputs": [],
   "metadata": {}
  },
  {
   "cell_type": "code",
   "execution_count": 60,
   "source": [
    "def get_page1():\r\n",
    "    urls = []\r\n",
    "    for page in range(5):\r\n",
    "        url= 'https://movies.yahoo.com.tw/moviegenre_result.html?genre_id=1&page={}'.format(page)\r\n",
    "        text=check_req_url(url)\r\n",
    "        if  text!=0:\r\n",
    "            #網頁解析\r\n",
    "            soup = BeautifulSoup(text, 'html.parser') \r\n",
    "            #這頁總共有多少電影\r\n",
    "            movie_info = soup.find_all('div', class_ = 'release_info')\r\n",
    "            #爬電影的連結\r\n",
    "            for movie in movie_info:\r\n",
    "                url = movie.find('div', class_='release_movie_name').a['href']\r\n",
    "                if url not in urls:\r\n",
    "                    urls.append(url)\r\n",
    "    return urls   "
   ],
   "outputs": [],
   "metadata": {}
  },
  {
   "cell_type": "code",
   "execution_count": 58,
   "source": [
    "def get_page2(text):\r\n",
    "    soup = BeautifulSoup(text, 'html.parser')\r\n",
    "    data_movie = dict()\r\n",
    "    #電影名稱\r\n",
    "    data_movie['ch_name'] = soup.find('div',class_= 'movie_intro_info_r').find('h1').text.strip()\r\n",
    "    #英文名稱\r\n",
    "    data_movie['english_name'] = soup.find('div',class_= 'movie_intro_info_r').find('h3').text.strip()    \r\n",
    "    #上映日期\r\n",
    "    data_movie['date'] = soup.find('div',class_= 'movie_intro_info_r').find('span').text.split('上映日期：')[1]\r\n",
    "    #電影介紹\r\n",
    "    data_movie['info'] = soup.find('div', class_='gray_infobox_inner').find('span').text.strip()\r\n",
    "    print(data_movie)\r\n",
    "    return data_movie"
   ],
   "outputs": [],
   "metadata": {}
  },
  {
   "cell_type": "code",
   "execution_count": 62,
   "source": [
    "result = []\r\n",
    "\r\n",
    "urls = get_page1() \r\n",
    "print(urls)\r\n",
    "for url in urls:\r\n",
    "    webpage = check_req_url(url)\r\n",
    "    mydict = get_page2(webpage)\r\n",
    "    result.append(mydict)\r\n",
    "    \r\n",
    "#csv\r\n",
    "df = pd.DataFrame(result)\r\n",
    "df.to_csv('movies.csv', encoding='utf_8_sig')\r\n",
    "df"
   ],
   "outputs": [
    {
     "output_type": "stream",
     "name": "stdout",
     "text": [
      "['https://movies.yahoo.com.tw/movieinfo_main/%E5%B0%8F%E5%B0%8F%E5%85%B52-%E6%A0%BC%E9%AD%AF%E7%9A%84%E5%B4%9B%E8%B5%B7-minions-the-rise-of-guru-10493', 'https://movies.yahoo.com.tw/movieinfo_main/%E5%AF%86%E5%BC%92%E9%81%8A%E6%88%B22-%E5%8B%9D%E8%80%85%E5%8D%B1%E4%BA%A1-escape-room-tournament-of-champions-11408', 'https://movies.yahoo.com.tw/movieinfo_main/%E5%AE%87%E5%AE%99%E7%89%B9%E6%94%BB%E9%9A%8A-cosmoball-11388', 'https://movies.yahoo.com.tw/movieinfo_main/%E6%B0%B8%E7%94%9F%E6%88%B0-seobok-11073']\n",
      "{'ch_name': '小小兵2：格魯的崛起', 'english_name': 'Minions: The Rise of Guru', 'date': '2022-07-01', 'info': '今年暑假，影史最賣座的動畫電影系列之一和風靡全球的現象，即將帶來關於一個12歲小男孩的故事，他夢想成為世上最偉大的超級大壞蛋。這部全新動畫喜劇動作片就是《小小兵2：格魯的崛起》。\\r\\n\\xa0\\r\\n這部電影充滿了照明娛樂招牌的顛覆性和無厘頭喜劇橋段、各種大眾文化的笑梗、感人肺腑的劇情、勁爆的電影配樂，以及宇宙超級無敵誇張的動作場面。《小小兵2：格魯的崛起》一片由這個電影系列的原創掌舵，製片包括照明娛樂極具遠見的創辦人和執行長克里斯梅勒丹德利、他的長期合作夥伴珍娜海莉，以及克里斯雷納德，導演凱爾巴爾達（《神偷奶爸3》、《小小兵》）則再度回歸執導這部電影。共同導演是布萊德艾柏森（長壽喜劇影集《辛普森家庭》）以及強納森戴凡（《寵物當家》系列電影）。'}\n",
      "{'ch_name': '密弒遊戲2：勝者危亡', 'english_name': 'Escape Room: Tournament of Champions', 'date': '2021-09-03', 'info': '為了將害人致死的「世界頂尖密室逃脫」主辦方繩之以法，兩位遊戲生存者柔伊（泰勒羅素飾）和班（羅根米勒飾）決定聯手到紐約找出背後兇手。但兩人卻與其他四位陌生人在紐約地鐵上遇到大災難，並意外發現他們不僅捲入更危險致命的密室遊戲，且所有人之前都是「世界頂尖密室逃脫」遊戲的生存者。在不解迷就等死的情況下，這六人將如何協力找生路，避免成為下一批遊戲犧牲者？'}\n",
      "{'ch_name': '宇宙特攻隊', 'english_name': 'Cosmoball', 'date': '2021-07-22', 'info': '★俄羅斯影史最強特效場景\\r\\n★《馴龍高手》《變形金剛》億萬動畫團隊再造顛峰\\r\\n★網友狂讚！媲美《艾莉塔：戰鬥天使》\\r\\n\\xa0\\r\\n2071 年在銀河戰爭之後，月球被毀、行星的兩極消失，莫斯科的人口及氣候變得與巴西接近，各種種族及文化共存於陽光普照的街道上。\\r\\n\\xa0\\r\\n而在地球的高空上盤旋著一輛巨大的宇宙飛船──這是舉辦「宇宙球」的專屬體育場，「宇宙球」是一種風靡世界的全新足球運動，以極高的速度及驚豔的視覺著稱；但在全世界為它著迷的同時，其實每場球賽的結果都決定著地球的命運，背後不為人知的黑幕也隨著一場接一場的比賽逐漸露出。'}\n",
      "{'ch_name': '永生戰', 'english_name': 'Seobok', 'date': '2021-04-15', 'info': '★ 斥資4億台幣打造 年底唯一磅礡動作鉅獻\\r\\n★ 兩大男神 孔劉X朴寶劍 首度大銀幕同台 帥到沸騰\\r\\n★ 國民男神孔劉 繼屍速列車再次狂飆 誓死守護他到最後\\r\\n★ 睽違５年最新電影作品 「永生人」朴寶劍 掌握毀滅世界關鍵\\r\\n★ 為爭奪人類永生秘密 獵殺行動一觸即發！\\r\\n\\xa0\\r\\n前情報局特務閔基憲（孔劉 飾），偶然遇見擁有人類不死秘密的「永生人」徐福（朴寶劍 飾），他接下了國家指派的最後一項機密任務，誓死護送徐福到安全之地，途中想佔有永生人的龐大財團與各方惡勢力展開大規模獵殺，讓他們的逃亡過程捲入驚天動地的危險局面......。'}\n"
     ]
    },
    {
     "output_type": "execute_result",
     "data": {
      "text/plain": [
       "      ch_name                          english_name        date  \\\n",
       "0  小小兵2：格魯的崛起             Minions: The Rise of Guru  2022-07-01   \n",
       "1  密弒遊戲2：勝者危亡  Escape Room: Tournament of Champions  2021-09-03   \n",
       "2       宇宙特攻隊                             Cosmoball  2021-07-22   \n",
       "3         永生戰                                Seobok  2021-04-15   \n",
       "\n",
       "                                                info  \n",
       "0  今年暑假，影史最賣座的動畫電影系列之一和風靡全球的現象，即將帶來關於一個12歲小男孩的故事，...  \n",
       "1  為了將害人致死的「世界頂尖密室逃脫」主辦方繩之以法，兩位遊戲生存者柔伊（泰勒羅素飾）和班（羅...  \n",
       "2  ★俄羅斯影史最強特效場景\\r\\n★《馴龍高手》《變形金剛》億萬動畫團隊再造顛峰\\r\\n★網友...  \n",
       "3  ★ 斥資4億台幣打造 年底唯一磅礡動作鉅獻\\r\\n★ 兩大男神 孔劉X朴寶劍 首度大銀幕同台...  "
      ],
      "text/html": [
       "<div>\n",
       "<style scoped>\n",
       "    .dataframe tbody tr th:only-of-type {\n",
       "        vertical-align: middle;\n",
       "    }\n",
       "\n",
       "    .dataframe tbody tr th {\n",
       "        vertical-align: top;\n",
       "    }\n",
       "\n",
       "    .dataframe thead th {\n",
       "        text-align: right;\n",
       "    }\n",
       "</style>\n",
       "<table border=\"1\" class=\"dataframe\">\n",
       "  <thead>\n",
       "    <tr style=\"text-align: right;\">\n",
       "      <th></th>\n",
       "      <th>ch_name</th>\n",
       "      <th>english_name</th>\n",
       "      <th>date</th>\n",
       "      <th>info</th>\n",
       "    </tr>\n",
       "  </thead>\n",
       "  <tbody>\n",
       "    <tr>\n",
       "      <th>0</th>\n",
       "      <td>小小兵2：格魯的崛起</td>\n",
       "      <td>Minions: The Rise of Guru</td>\n",
       "      <td>2022-07-01</td>\n",
       "      <td>今年暑假，影史最賣座的動畫電影系列之一和風靡全球的現象，即將帶來關於一個12歲小男孩的故事，...</td>\n",
       "    </tr>\n",
       "    <tr>\n",
       "      <th>1</th>\n",
       "      <td>密弒遊戲2：勝者危亡</td>\n",
       "      <td>Escape Room: Tournament of Champions</td>\n",
       "      <td>2021-09-03</td>\n",
       "      <td>為了將害人致死的「世界頂尖密室逃脫」主辦方繩之以法，兩位遊戲生存者柔伊（泰勒羅素飾）和班（羅...</td>\n",
       "    </tr>\n",
       "    <tr>\n",
       "      <th>2</th>\n",
       "      <td>宇宙特攻隊</td>\n",
       "      <td>Cosmoball</td>\n",
       "      <td>2021-07-22</td>\n",
       "      <td>★俄羅斯影史最強特效場景\\r\\n★《馴龍高手》《變形金剛》億萬動畫團隊再造顛峰\\r\\n★網友...</td>\n",
       "    </tr>\n",
       "    <tr>\n",
       "      <th>3</th>\n",
       "      <td>永生戰</td>\n",
       "      <td>Seobok</td>\n",
       "      <td>2021-04-15</td>\n",
       "      <td>★ 斥資4億台幣打造 年底唯一磅礡動作鉅獻\\r\\n★ 兩大男神 孔劉X朴寶劍 首度大銀幕同台...</td>\n",
       "    </tr>\n",
       "  </tbody>\n",
       "</table>\n",
       "</div>"
      ]
     },
     "metadata": {},
     "execution_count": 62
    }
   ],
   "metadata": {}
  }
 ],
 "metadata": {
  "orig_nbformat": 4,
  "language_info": {
   "name": "python",
   "version": "3.9.6",
   "mimetype": "text/x-python",
   "codemirror_mode": {
    "name": "ipython",
    "version": 3
   },
   "pygments_lexer": "ipython3",
   "nbconvert_exporter": "python",
   "file_extension": ".py"
  },
  "kernelspec": {
   "name": "python3",
   "display_name": "Python 3.9.6 64-bit (windows store)"
  },
  "interpreter": {
   "hash": "51dc9676033afd2a491cf59d7b1c70c3cea9273ba80257c1b4703051bab2b9dc"
  }
 },
 "nbformat": 4,
 "nbformat_minor": 2
}